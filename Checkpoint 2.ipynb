{
 "cells": [
  {
   "cell_type": "markdown",
   "id": "under-lemon",
   "metadata": {
    "deletable": false,
    "editable": false,
    "nbgrader": {
     "cell_type": "markdown",
     "checksum": "08e82c1caefc17ba87e5ca4a367835e0",
     "grade": false,
     "grade_id": "cell-179ae794a185f8b3",
     "locked": true,
     "schema_version": 3,
     "solution": false,
     "task": false
    }
   },
   "source": [
    "# Checkpoint 2\n",
    "### Due: Tuesday, 7 November, 2023 at 11:00am GMT\n",
    "\n",
    "### Total points: 100\n",
    "\n",
    "### Read This First\n",
    "\n",
    "Wherever you see raise NotImplementedError(), remove that line and put your code there.\n",
    "\n",
    "Put the code that produces the output for a given task in the cell indicated. You are welcome to add as many cells as you like for imports, function definitions, variables, etc.\n",
    "\n",
    "Your notebook must run correctly when executed once from start to finish. Your notebook will be graded based on how it runs, not how it looks when you submit it. To test this, go to the Kernel menu and select Restart & Run All.\n",
    "\n",
    "Once you are happy with it, clear the output by selecting Restart & Clear Output from the Kernel menu.\n",
    "\n",
    "### Your code must not take more than a minute per task.\n",
    "\n",
    "Submit through Noteable."
   ]
  },
  {
   "cell_type": "markdown",
   "id": "63bc09dd",
   "metadata": {
    "deletable": false,
    "editable": false,
    "nbgrader": {
     "cell_type": "markdown",
     "checksum": "1b6de7bf30cc19501288acb93633b2fc",
     "grade": false,
     "grade_id": "cell-b7400fc60561e8d2",
     "locked": true,
     "schema_version": 3,
     "solution": false,
     "task": false
    }
   },
   "source": [
    "# IMPORTANT \n",
    "\n",
    "In the following cell you must set the UID variable to be your student matriculation number (UUN), i.e.\n",
    "\n",
    "`\n",
    "UID=1769766\n",
    "`\n",
    "\n",
    "It must be an integer.\n",
    "\n",
    "# Do not change it later\n",
    "\n",
    "It will be used to generate the data that is different from other students\n",
    "\n"
   ]
  },
  {
   "cell_type": "code",
   "execution_count": null,
   "id": "9cfbb9ec",
   "metadata": {},
   "outputs": [],
   "source": [
    "UID =  # set it to your UUN number\n",
    "\n",
    "# Checking it is integer\n",
    "assert (type(UID) is int)"
   ]
  },
  {
   "cell_type": "markdown",
   "id": "operational-maryland",
   "metadata": {
    "deletable": false,
    "editable": false,
    "nbgrader": {
     "cell_type": "markdown",
     "checksum": "6d216bd0dea4e0dcf64c443f1cfb251a",
     "grade": false,
     "grade_id": "cell-0b6698cfafd847dc",
     "locked": true,
     "schema_version": 3,
     "solution": false,
     "task": false
    }
   },
   "source": [
    "# Task 1 (20 points)\n",
    "\n",
    "The first task is to find the number of local minima of the function. \n",
    "\n",
    "The function F() is defined in such a way that it accepts inputs of any number of dimensions. I.e. F([0]), F([0,1]), F([4,2,4,6,2]).\n",
    "\n",
    "All the minima of the function are  located within -10..10 range. \n",
    "I.e. if the location of the minimum is at X=(x_1,x_2,...) then |x_i|<10 for every i.\n",
    "\n",
    "Your task is to determine the number of local minima of the function for dimensions 1, 2, 3, 4, 5. \n",
    "Your code should return the list or array of 5 integer values.\n",
    "\n",
    "You can assume that the function has no minima separated by less than 0.01.\n",
    "I.e. if X is location of the local minimum and Y is a different local minimum then ||X-Y|| > 0.01"
   ]
  },
  {
   "cell_type": "code",
   "execution_count": null,
   "id": "false-impression",
   "metadata": {
    "deletable": false,
    "editable": false,
    "nbgrader": {
     "cell_type": "code",
     "checksum": "71ceefbe23bc6efc70ff431aaa3279c8",
     "grade": false,
     "grade_id": "cell-193fa5b6b82a2a35",
     "locked": true,
     "schema_version": 3,
     "solution": false,
     "task": false
    }
   },
   "outputs": [],
   "source": [
    "import numpy as np\n",
    "import scipy.optimize\n",
    "import scipy.linalg\n",
    "import matplotlib.pyplot as plt\n",
    "import scipy.stats\n",
    "%matplotlib inline"
   ]
  },
  {
   "cell_type": "code",
   "execution_count": null,
   "id": "convinced-career",
   "metadata": {
    "deletable": false,
    "editable": false,
    "nbgrader": {
     "cell_type": "code",
     "checksum": "f878d08e8fc6782c73197e0b97832a21",
     "grade": false,
     "grade_id": "task1_intro",
     "locked": true,
     "schema_version": 3,
     "solution": false,
     "task": false
    }
   },
   "outputs": [],
   "source": [
    "T1_D = np.load('checkpoint2_task1.npz')['arr_0']\n",
    "dims = [1, 2, 3, 4, 5]\n",
    "import scipy.special as ssp\n",
    "\n",
    "\n",
    "def blackbox_func(p):\n",
    "    \"\"\"\n",
    "    This is is the function that you need to optimize\n",
    "    It takes vector arguments (of any length) and a returns a scalar\n",
    "    DO NOT CHANGE THE CODE INSIDE THIS FUNCTION\n",
    "    \"\"\"\n",
    "    p = np.asarray(p)\n",
    "    ndim = len(p)\n",
    "    pos = dims.index(ndim)\n",
    "    pos = np.random.default_rng(UID).permutation(5)[pos]\n",
    "    curD = T1_D[1000 * pos:1000 * (pos + 1), :ndim]\n",
    "    return -ssp.logsumexp(np.sum(-0.5 * ((p[None, :] - curD) / .3)**2, axis=1))\n",
    "\n",
    "\n",
    "# The function is defined in  1,2,3,4,5 dimensions\n",
    "print(blackbox_func([0]))\n",
    "print(blackbox_func([0, 0]))\n",
    "print(blackbox_func([0, 0, 0]))"
   ]
  },
  {
   "cell_type": "code",
   "execution_count": null,
   "id": "d5391de4",
   "metadata": {
    "deletable": false,
    "nbgrader": {
     "cell_type": "code",
     "checksum": "ed414526b3548e42efc1993c7049d963",
     "grade": true,
     "grade_id": "task1_solution",
     "locked": false,
     "points": 0,
     "schema_version": 3,
     "solution": true,
     "task": false
    }
   },
   "outputs": [],
   "source": [
    "def find_number_of_minima():\n",
    "    \"\"\"\n",
    "    Your function should return the list or array of 5 integers \n",
    "    \"\"\"\n",
    "    # YOUR CODE HERE\n",
    "    raise NotImplementedError()"
   ]
  },
  {
   "cell_type": "code",
   "execution_count": null,
   "id": "128ed18a",
   "metadata": {
    "deletable": false,
    "editable": false,
    "nbgrader": {
     "cell_type": "code",
     "checksum": "95d2e1c1849252cfa756dd35ce368ce8",
     "grade": true,
     "grade_id": "task1_test",
     "locked": true,
     "points": 0,
     "schema_version": 3,
     "solution": false,
     "task": false
    }
   },
   "outputs": [],
   "source": [
    "my_minima = find_number_of_minima()\n",
    "assert (len(my_minima) == 5)\n",
    "print(my_minima)\n"
   ]
  },
  {
   "cell_type": "markdown",
   "id": "1f9c9452",
   "metadata": {
    "deletable": false,
    "editable": false,
    "nbgrader": {
     "cell_type": "markdown",
     "checksum": "02638ec57b25899d2ed883373c40a6ee",
     "grade": false,
     "grade_id": "cell-9ffb52dbaa1b00f3",
     "locked": true,
     "schema_version": 3,
     "solution": false,
     "task": false
    }
   },
   "source": [
    "# Task 2 (20 pts)\n",
    "\n",
    "Generate random numbers from a probability distribution that looks like a triangle and a semi-circle.\n",
    "\n",
    "The PDF f(x) is the following. Use the inverse CDF sampling method.\n",
    "\n",
    "* f(x) = 0 when x<0\n",
    "* f(x)= x/2 when 0<x<=1\n",
    "* f(x)= 1-x/2 when 1<x<=2\n",
    "* f(x)= 0 when 2<x<=3\n",
    "* f(x)= $\\pi/4 \\sin((x-3)\\cdot \\pi)$ when 3<x<=4\n",
    "* f(x)= 0 when x>4\n"
   ]
  },
  {
   "cell_type": "code",
   "execution_count": null,
   "id": "c8aa1cca",
   "metadata": {
    "deletable": false,
    "nbgrader": {
     "cell_type": "code",
     "checksum": "cf12c040320e9a3af59e478d75468501",
     "grade": true,
     "grade_id": "task2_solution",
     "locked": false,
     "points": 0,
     "schema_version": 3,
     "solution": true,
     "task": false
    }
   },
   "outputs": [],
   "source": [
    "def generate_triangles(N):\n",
    "    \"\"\" \n",
    "    Return a numpy array with N random numbers \n",
    "    following the distribution specified\n",
    "    \"\"\"\n",
    "    # YOUR CODE HERE\n",
    "    raise NotImplementedError()"
   ]
  },
  {
   "cell_type": "code",
   "execution_count": null,
   "id": "adb031e5",
   "metadata": {
    "deletable": false,
    "editable": false,
    "nbgrader": {
     "cell_type": "code",
     "checksum": "82c891a6970000651597cfe03385e1cd",
     "grade": true,
     "grade_id": "task2_test",
     "locked": true,
     "points": 0,
     "schema_version": 3,
     "solution": false,
     "task": false
    }
   },
   "outputs": [],
   "source": [
    "# The code will be tested by this\n",
    "# the distribution of points should look like a triangle and semicircle\n",
    "task2_result = generate_triangles(100000)\n",
    "assert len(task2_result) == 100000\n",
    "plt.hist(task2_result, bins=200)\n"
   ]
  },
  {
   "cell_type": "markdown",
   "id": "61fa5064",
   "metadata": {
    "deletable": false,
    "editable": false,
    "nbgrader": {
     "cell_type": "markdown",
     "checksum": "f0dd0a62c5e5d48bcd94acc83f216ff3",
     "grade": false,
     "grade_id": "cell-08472b87802d9f84",
     "locked": true,
     "schema_version": 3,
     "solution": false,
     "task": false
    }
   },
   "source": [
    "# Task 3 (20 pts)\n",
    "\n",
    "You are conducting an experiment where your parameter of interest x is subject to this equation \n",
    "$$ \\int_0^x \\left( a + sin(b  \\ln(c + z^2) +e  z) \\right) dz = y  $$\n",
    "\n",
    "\n",
    "Your experiment provides you with the values of a, b, c, e, y and their uncertainties. \n",
    "You need to write the function that computes the value of x (5 points) and it's uncertainty (15 points)\n",
    "You can assume that 0<x<100 and a>1 and c>0.\n",
    "\n",
    "We will check the that the value of x is accurate to $0.0001$ and that uncertainty is within 10% of true uncertainty."
   ]
  },
  {
   "cell_type": "code",
   "execution_count": null,
   "id": "944a72e0",
   "metadata": {
    "deletable": false,
    "nbgrader": {
     "cell_type": "code",
     "checksum": "2ba4f43e6fb12b5716d765b11c6adf3b",
     "grade": true,
     "grade_id": "task3_solution",
     "locked": false,
     "points": 0,
     "schema_version": 3,
     "solution": true,
     "task": false
    }
   },
   "outputs": [],
   "source": [
    "def solve_task3(a=None,\n",
    "                b=None,\n",
    "                c=None,\n",
    "                e=None,\n",
    "                y=None,\n",
    "                err_a=None,\n",
    "                err_b=None,\n",
    "                err_c=None,\n",
    "                err_e=None,\n",
    "                err_y=None):\n",
    "    \"\"\"\n",
    "    This function will return two numbers x and its uncertainty given a, b, c, y values \n",
    "    and their uncertainties\n",
    "    \"\"\"\n",
    "    # YOUR CODE HERE\n",
    "    raise NotImplementedError()"
   ]
  },
  {
   "cell_type": "code",
   "execution_count": null,
   "id": "660068d5",
   "metadata": {
    "deletable": false,
    "editable": false,
    "nbgrader": {
     "cell_type": "code",
     "checksum": "1cfaab493ad1a662f9c586183778a572",
     "grade": true,
     "grade_id": "task3_test",
     "locked": true,
     "points": 0,
     "schema_version": 3,
     "solution": false,
     "task": false
    }
   },
   "outputs": [],
   "source": [
    "testme = solve_task3(\n",
    "    a=3, b=1, c=0.2, e=0.4, y=5, err_a=0.2, err_b=0.2, err_c=0.02, err_e=0.1, err_y=0.2\n",
    ")\n",
    "print(testme)\n",
    "assert len(testme) == 2"
   ]
  },
  {
   "cell_type": "markdown",
   "id": "3dbd1541",
   "metadata": {
    "deletable": false,
    "editable": false,
    "nbgrader": {
     "cell_type": "markdown",
     "checksum": "36060a2b6629e7915656771b6b82b28a",
     "grade": false,
     "grade_id": "cell-87bfc105ba9092d6",
     "locked": true,
     "schema_version": 3,
     "solution": false,
     "task": false
    }
   },
   "source": [
    "# Task 4 (20 pts)\n",
    "\n",
    "# Fitting a periodic model to the data. \n",
    "\n",
    "In the input data file checkpoint2_task4_file.txt we have repeated measurements from the instrument. \n",
    "The file has 3 columns. \n",
    "\n",
    "One is the time of observation, the second one is the measurement, and the third one is the uncertainty of the measurement.  We think that the measurements should show periodic changes with time, so we want to fit the dataset by a model with a periodic component:\n",
    "$$ M(t) = A \\sin(2\\pi t/T) + B \\cos(2\\pi t/T) + C t +D $$\n",
    "A, B, C, D, T are model parameters. We are interested in determining T.\n",
    "\n",
    "Assuming that we know that the period is between 0.5 and 5, determine the best period describing the data with the accuracy of better than 0.01.\n",
    "\n",
    "Your function needs to return the pair of  \n",
    "* the best period and \n",
    "* model values of your best fit model corresponding to the measurement times in the input file.\n",
    "\n",
    "Hint: Notice the model is linear with respect to parameters  A,B,C,D\n",
    "\n",
    "The grading will be done on another data file you do not have access to."
   ]
  },
  {
   "cell_type": "code",
   "execution_count": null,
   "id": "5f86208c",
   "metadata": {
    "deletable": false,
    "nbgrader": {
     "cell_type": "code",
     "checksum": "c19e1677a74305af3a7673ceb6fe53af",
     "grade": true,
     "grade_id": "task4_solution",
     "locked": false,
     "points": 0,
     "schema_version": 3,
     "solution": true,
     "task": false
    }
   },
   "outputs": [],
   "source": [
    "def solve_period_model(filename):\n",
    "    \"\"\" \n",
    "        This function should read the data from the file\n",
    "        Fit the model and\n",
    "        return the pair of best-fit period, best-fit model value array \n",
    "    \"\"\"\n",
    "    DATA = np.loadtxt(filename)\n",
    "    t, y, ey = DATA\n",
    "    # YOUR CODE HERE\n",
    "    raise NotImplementedError()"
   ]
  },
  {
   "cell_type": "code",
   "execution_count": null,
   "id": "4ed2aa2f",
   "metadata": {
    "deletable": false,
    "editable": false,
    "nbgrader": {
     "cell_type": "code",
     "checksum": "805e19b492d3ea181505870c2d7bad8c",
     "grade": true,
     "grade_id": "task4_test",
     "locked": true,
     "points": 0,
     "schema_version": 3,
     "solution": false,
     "task": false
    }
   },
   "outputs": [],
   "source": [
    "# Your code will be tested like this on the provided data \n",
    "# AND on the hidden dataset\n",
    "bestper, bestmod = solve_period_model('checkpoint2_task4_file.txt')\n",
    "T4_DATA = np.loadtxt('checkpoint2_task4_file.txt')\n",
    "plt.errorbar(T4_DATA[0], T4_DATA[1], T4_DATA[2], fmt='.')\n",
    "print('BEST PERIOD', bestper)\n",
    "plt.plot(np.sort(T4_DATA[0]), bestmod[np.argsort(T4_DATA[0])])\n"
   ]
  },
  {
   "cell_type": "markdown",
   "id": "245fc5b8",
   "metadata": {
    "deletable": false,
    "editable": false,
    "nbgrader": {
     "cell_type": "markdown",
     "checksum": "2610efd98efb2ba6f8a3eed7bde9db2f",
     "grade": false,
     "grade_id": "cell-09a8097b0427727e",
     "locked": true,
     "schema_version": 3,
     "solution": false,
     "task": false
    }
   },
   "source": [
    "# Task 5 (20 pts)\n",
    "\n",
    "You are given a dataset from the particle physics experiment. \n",
    "In that experiment the number of particles are recorded in intervals of energy.\n",
    "The dataset contains an array of those numbers and the central energy of each bin/interval. \n",
    "We think that the average number of particles in each bin could be described by this model \n",
    "\n",
    "$$R(E) = |A_1|+ 100 \\cdot \\exp\\left(A_2 \\cdot \\frac{E-70}{100}\\right) + |A_3| \\cdot  \\exp\n",
    "\\left( - \\frac{1}{2}\\frac{(E-A_4)^2}{A_5^2} \\right)$$\n",
    "\n",
    "where the first two terms are describing the background and the last term is a contribution from a decaying \n",
    "particle with the mean energy $A_4$. \n",
    "\n",
    "In the dataset you can assume that the number of particles in each bin is described by Poisson distribution with the rate described by the equation above. You can assume that measurements of number of particles in each bin are independent from each other.\n",
    "\n",
    "Your task is to model the data, estimate the energy of the particle $A_4$ using maximum likelihood approach and estimate the uncertainty of your measurement.\n",
    "\n",
    "Your function solve_task5() should return two numbers: the estimate of the energy and its uncertainty. \n",
    "If you don't know how to estimate the uncertainty, you can return np.nan instead\n",
    "\n",
    "Your function should also overplot your best model on top of the data.\n",
    "\n",
    "Hint: Be careful with exponent overflow! (The value of $A_2$ should not be too large!)\n",
    "\n",
    "We will be testing your code using the same data that you see."
   ]
  },
  {
   "cell_type": "code",
   "execution_count": null,
   "id": "b030b7c9",
   "metadata": {
    "deletable": false,
    "editable": false,
    "nbgrader": {
     "cell_type": "code",
     "checksum": "85b22eada6f0e985457705793789e6e6",
     "grade": false,
     "grade_id": "task5_intro",
     "locked": true,
     "schema_version": 3,
     "solution": false,
     "task": false
    }
   },
   "outputs": [],
   "source": [
    "def task5_data_reader(filename):\n",
    "    # This simply reads the data and return the array of Energies and the number counts in each bin\n",
    "    # Use this function to read the data\n",
    "    # DO NOT CHANGE THIS\n",
    "    D = np.loadtxt('checkpoint2_task5.txt',\n",
    "                   dtype=[('i', float), ('E', np.float64), ('N', float)])\n",
    "    i = D['i'].astype(int)\n",
    "    E, N = D['E'][i == UID % 100], D['N'][i == UID % 100].astype(int)\n",
    "    return E, N\n",
    "\n",
    "T5_E, T5_N = task5_data_reader('checkpoint2_task5.txt')\n",
    "plt.plot(T5_E, T5_N, drawstyle='steps')\n",
    "plt.xlabel('Energy')\n",
    "plt.ylabel('Number of particles')"
   ]
  },
  {
   "cell_type": "code",
   "execution_count": null,
   "id": "f49ca629",
   "metadata": {
    "deletable": false,
    "nbgrader": {
     "cell_type": "code",
     "checksum": "dce063ca3b4634b53e3e0be41fe987fc",
     "grade": true,
     "grade_id": "task5_solution",
     "locked": false,
     "points": 0,
     "schema_version": 3,
     "solution": true,
     "task": false
    }
   },
   "outputs": [],
   "source": [
    "def solve_task5(filename):\n",
    "    \"\"\"\n",
    "    Your function should return the best value of A4 and its uncertainty. \n",
    "    It also should plot the data and overplot your best model on top of the data\n",
    "    \"\"\"\n",
    "    T5_E, T5_N = task5_data_reader(filename)\n",
    "    # YOUR CODE HERE\n",
    "    raise NotImplementedError()"
   ]
  },
  {
   "cell_type": "code",
   "execution_count": null,
   "id": "4bce7ce7",
   "metadata": {
    "deletable": false,
    "editable": false,
    "nbgrader": {
     "cell_type": "code",
     "checksum": "7bcfdaa558ff4063420bdb6293960ba7",
     "grade": true,
     "grade_id": "task5_test",
     "locked": true,
     "points": 0,
     "schema_version": 3,
     "solution": false,
     "task": false
    }
   },
   "outputs": [],
   "source": [
    "bestval, besterr = solve_task5('checkpoint2_task5.txt')\n"
   ]
  }
 ],
 "metadata": {
  "kernelspec": {
   "display_name": "Python 3 (ipykernel)",
   "language": "python",
   "name": "python3"
  },
  "language_info": {
   "codemirror_mode": {
    "name": "ipython",
    "version": 3
   },
   "file_extension": ".py",
   "mimetype": "text/x-python",
   "name": "python",
   "nbconvert_exporter": "python",
   "pygments_lexer": "ipython3",
   "version": "3.9.13"
  }
 },
 "nbformat": 4,
 "nbformat_minor": 5
}
